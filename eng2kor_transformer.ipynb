{
  "cells": [
    {
      "cell_type": "code",
      "execution_count": 1,
      "metadata": {
        "id": "SJEQAM9o4vEK"
      },
      "outputs": [],
      "source": [
        "# 키보드 상 영어 알파벳-한국어 자모음 치환할 수 있는 dictionary\n",
        "ko_dict = {'q':'ㅂ', 'Q':'ㅃ', 'w':'ㅈ', 'W':'ㅉ',\n",
        "           'e':'ㄷ', 'E':'ㄸ', 'r':'ㄱ', 'R':'ㄲ', 't':'ㅅ',\n",
        "           'T':'ㅆ', 'y':'ㅛ', 'u':'ㅕ', 'i':'ㅑ', 'o':'ㅐ',\n",
        "           'p':'ㅔ', 'a':'ㅁ', 's':'ㄴ', 'd':'ㅇ', 'f':'ㄹ',\n",
        "           'g':'ㅎ', 'h':'ㅗ', 'j':'ㅓ', 'k':'ㅏ', 'l':'ㅣ',\n",
        "           'z':'ㅋ', 'x':'ㅌ', 'c':'ㅊ', 'v':'ㅍ', 'b':'ㅠ',\n",
        "           'n':'ㅜ', 'm':'ㅡ', 'O':'ㅒ', 'P':'ㅖ', 'Y':'ㅛ',\n",
        "           'U':'ㅕ', 'I':'ㅑ', 'H':'ㅗ', 'J':'ㅓ', 'K':'ㅏ',\n",
        "           'L':'ㅣ', 'B':'ㅠ', 'N':'ㅜ', 'M':'ㅡ', 'A':'ㅁ',\n",
        "           'S':'ㄴ', 'D':'ㅇ', 'F':'ㄹ', 'G':'ㅎ', 'Z':'ㅋ',\n",
        "           'X':'ㅌ', 'C':'ㅊ', 'V':'ㅍ'}\n",
        "\n",
        "# 가능한 초성, 중성, 종성 리스트 (이후 unicode 계산을 위해서 sorting)\n",
        "chosung_list = sorted(['ㄱ','ㄴ','ㄷ','ㄹ','ㅁ','ㅂ','ㅅ','ㅇ','ㅈ','ㅊ','ㅋ','ㅌ','ㅍ','ㅎ','ㄲ','ㄸ','ㅃ','ㅆ','ㅉ'])\n",
        "joongsung_list = sorted(['ㅏ','ㅑ','ㅓ','ㅕ','ㅗ','ㅛ','ㅜ','ㅠ','ㅡ','ㅣ','ㅐ','ㅒ','ㅔ','ㅖ','ㅘ','ㅚ','ㅙ','ㅝ','ㅟ','ㅞ','ㅢ'])\n",
        "jongsung_list = sorted(['','ㄱ','ㄴ','ㄷ','ㄹ','ㅁ','ㅂ','ㅅ','ㅇ','ㅈ','ㅊ','ㅋ','ㅌ','ㅍ','ㅎ','ㄲ','ㅆ','ㄻ','ㄼ','ㄽ','ㄺ','ㅀ','ㄾ','ㄿ','ㄳ','ㅄ','ㄶ','ㄵ']) # 받침이 없어 종성이 비어있는 경우까지 포함"
      ]
    },
    {
      "cell_type": "code",
      "execution_count": null,
      "metadata": {
        "colab": {
          "base_uri": "https://localhost:8080/"
        },
        "id": "_ywKnVB54vEM",
        "outputId": "6be6ab9b-8033-4c75-8665-86ce389ea07a"
      },
      "outputs": [
        {
          "name": "stdout",
          "output_type": "stream",
          "text": [
            "['ㅇ', 'ㅏ', 'ㄴ', 'ㅣ', 'ㅇ', 'ㅑ', 'ㅠ', 'ㅠ', 'ㅠ', 'ㅠ', 'ㅠ', 'ㅋ', 'ㅋ', 'ㅋ', 'ㅋ', 'ㅋ']\n"
          ]
        }
      ],
      "source": [
        "# 키보드에서 같은 자리에 있는 영타 -> 한타 변환\n",
        "def eng_to_kor(eng_input):\n",
        "  \"\"\"\n",
        "    Converts an English string to a list of Korean characters based on a predefined dictionary.\n",
        "\n",
        "    Args:\n",
        "        eng_input (str): The English string to convert.\n",
        "\n",
        "    Returns:\n",
        "        list: A list of Korean characters corresponding to the input English string.\n",
        "              Returns the original character if no corresponding Korean character is found.\n",
        "\n",
        "    Example:\n",
        "        >>> eng_to_kor(\"dksl\")\n",
        "        ['ㅇ', 'ㅏ', 'ㄴ', 'ㅣ']\n",
        "    \"\"\"\n",
        "    kor_output = []\n",
        "    for c in eng_input:\n",
        "        if c in ko_dict:\n",
        "            kor_output.append(ko_dict[c])\n",
        "        else:\n",
        "            kor_output.append(c)\n",
        "    return kor_output\n",
        "\n",
        "print(eng_to_kor(\"dksldibbbbbzzzzz\"))"
      ]
    },
    {
      "cell_type": "code",
      "execution_count": null,
      "metadata": {
        "colab": {
          "base_uri": "https://localhost:8080/"
        },
        "id": "7M2Bho6S4vEN",
        "outputId": "5fc43a9c-2b0e-423e-abfb-ec8c581ccfa4"
      },
      "outputs": [
        {
          "name": "stdout",
          "output_type": "stream",
          "text": [
            "[['ㅇ'], ['ㅇ', 'ㅏ', 'ㄴ'], ['ㄴ', 'ㅕ', 'ㅇ']]\n",
            "[['ㅂ', 'ㅏ', 'ㄹ', 'ㄱ'], ['ㅇ', 'ㅡ', 'ㄴ']]\n",
            "[['ㅇ', 'ㅇ', 'ㅇ'], ['ㅇ', 'ㅏ', 'ㅏ', 'ㅏ', 'ㅏ', 'ㅏ', 'ㅋ', 'ㅋ', 'ㅋ', 'ㅋ', 'ㅋ']]\n",
            "[['ㅇ', 'ㅏ'], ['ㄴ', 'ㅣ'], ['ㅇ', 'ㅑ', 'ㅠ', 'ㅠ', 'ㅠ', 'ㅠ', 'ㅠ', 'ㅋ', 'ㅋ', 'ㅋ', 'ㅋ', 'ㅋ']]\n",
            "[['ㅠ', 'ㅠ', 'ㅠ', 'ㅠ', 'ㅠ', 'ㅋ', 'ㅋ', 'ㅋ', 'ㅋ', 'ㅋ']]\n"
          ]
        }
      ],
      "source": [
        "# 음절 분리 (기준: 자음+모음 이어져서 나오면 다시 또 다른 자음+모음 나오기 전까지 하나의 음절로 분리)\n",
        "def syllable_seperator(kor_input):\n",
        "  \"\"\"\n",
        "    Separates a list of Korean characters into a list of Korean syllables.\n",
        "\n",
        "    Args:\n",
        "        kor_input (list): A list of Korean characters.\n",
        "\n",
        "    Returns:\n",
        "        list: A list of lists, where each inner list is a Korean syllable.\n",
        "        Returns a list of remaining characters if the input does not form syllables.\n",
        "\n",
        "    Example:\n",
        "        >>> syllable_seperator(['ㅇ', 'ㅏ', 'ㄴ', 'ㄴ', 'ㅕ', 'ㅇ'])\n",
        "        [['ㅇ', 'ㅏ', 'ㄴ'], ['ㄴ', 'ㅕ', 'ㅇ']]\n",
        "    \"\"\"\n",
        "  words = []\n",
        "  cursor = len(kor_input)-1\n",
        "  rest = []\n",
        "  for i in range(len(kor_input)-1,0,-1):\n",
        "    if kor_input[i-1] in chosung_list and kor_input[i] in joongsung_list:\n",
        "      words.append(kor_input[i-1:cursor+1])\n",
        "      cursor = i-2\n",
        "      rest = kor_input[:i-1]\n",
        "    elif kor_input[0] in joongsung_list:\n",
        "      rest = kor_input[:cursor+1]\n",
        "\n",
        "\n",
        "  if len(rest) != 0:\n",
        "      words.append(rest)\n",
        "\n",
        "  return words[::-1]\n",
        "\n",
        "print(syllable_seperator(['ㅇ','ㅇ', 'ㅏ', 'ㄴ', 'ㄴ', 'ㅕ', 'ㅇ']))\n",
        "print(syllable_seperator(['ㅂ', 'ㅏ', 'ㄹ', 'ㄱ', 'ㅇ', 'ㅡ', 'ㄴ']))\n",
        "print(syllable_seperator(['ㅇ', 'ㅇ', 'ㅇ', 'ㅇ', 'ㅏ', 'ㅏ', 'ㅏ', 'ㅏ', 'ㅏ', 'ㅋ', 'ㅋ', 'ㅋ', 'ㅋ', 'ㅋ']))\n",
        "print(syllable_seperator(['ㅇ', 'ㅏ', 'ㄴ', 'ㅣ', 'ㅇ', 'ㅑ', 'ㅠ', 'ㅠ', 'ㅠ', 'ㅠ', 'ㅠ', 'ㅋ', 'ㅋ', 'ㅋ', 'ㅋ', 'ㅋ']))\n",
        "print(syllable_seperator([ 'ㅠ', 'ㅠ', 'ㅠ', 'ㅠ', 'ㅠ', 'ㅋ', 'ㅋ', 'ㅋ', 'ㅋ', 'ㅋ']))"
      ]
    },
    {
      "cell_type": "code",
      "execution_count": null,
      "metadata": {
        "id": "2gqe23udGC_3"
      },
      "outputs": [],
      "source": [
        "# 겹받침 처리\n",
        "def double_cons(letters):\n",
        "  \"\"\"\n",
        "    Combines adjacent consonants into double consonants if they form a valid double consonant.\n",
        "\n",
        "    Args:\n",
        "        letters (list): A list of Korean consonant characters.\n",
        "\n",
        "    Returns:\n",
        "        list: A list of Korean characters with combined double consonants.\n",
        "\n",
        "    Example:\n",
        "        >>> double_cons(['ㄹ', 'ㄱ', 'ㅅ', 'ㄴ'])\n",
        "        ['ㄺ', 'ㅅ', 'ㄴ']\n",
        "    \"\"\"\n",
        "  double_consonant_map = {\n",
        "      ('ㅂ', 'ㅅ'): \"ㅄ\",\n",
        "      ('ㄱ', 'ㅅ'): \"ㄳ\",\n",
        "      ('ㄴ', 'ㅈ'): \"ㄵ\",\n",
        "      ('ㄴ', 'ㅎ'): \"ㄶ\",\n",
        "      ('ㄹ', 'ㄱ'): \"ㄺ\",\n",
        "      ('ㄹ', 'ㅁ'): \"ㄻ\",\n",
        "      ('ㄹ', 'ㅂ'): \"ㄼ\",\n",
        "      ('ㄹ', 'ㅅ'): \"ㄽ\",\n",
        "      ('ㄹ', 'ㅌ'): \"ㄾ\",\n",
        "      ('ㄹ', 'ㅍ'): \"ㄿ\",\n",
        "      ('ㄹ', 'ㅎ'): \"ㅀ\"\n",
        "  }\n",
        "\n",
        "  result = []\n",
        "  i = 0\n",
        "  while i < len(letters):\n",
        "      if i < len(letters) - 1:\n",
        "          pair = (letters[i], letters[i+1])\n",
        "          if pair in double_consonant_map:\n",
        "              result.append(double_consonant_map[pair])\n",
        "              i += 2\n",
        "          else:\n",
        "              result.append(letters[i])\n",
        "              i += 1\n",
        "      else:\n",
        "          result.append(letters[i])\n",
        "          i += 1\n",
        "  return result"
      ]
    },
    {
      "cell_type": "code",
      "execution_count": null,
      "metadata": {
        "id": "uI03PjFiypfO"
      },
      "outputs": [],
      "source": [
        "# 이중 모음 처리\n",
        "def double_vowel(letters):\n",
        "  \"\"\"\n",
        "    Combines adjacent vowels into double vowels if they form a valid double vowel.\n",
        "\n",
        "    Args:\n",
        "        letters (list): A list of Korean vowel characters.\n",
        "\n",
        "    Returns:\n",
        "        list: A list of Korean characters with combined double vowels.\n",
        "\n",
        "    Example:\n",
        "      >>> double_vowel(['ㅜ', 'ㅓ', 'ㅣ'])\n",
        "      ['ㅝ', 'ㅣ']\n",
        "  \"\"\"\n",
        "  double_vowel_map = {\n",
        "      (\"ㅗ\", \"ㅐ\"): \"ㅙ\",\n",
        "      (\"ㅗ\", \"ㅏ\"): \"ㅘ\",\n",
        "      (\"ㅗ\", \"ㅣ\"): \"ㅚ\",\n",
        "      (\"ㅜ\", \"ㅓ\"): \"ㅝ\",\n",
        "      (\"ㅜ\", \"ㅔ\"): \"ㅞ\",\n",
        "      (\"ㅜ\", \"ㅣ\"): \"ㅟ\",\n",
        "      (\"ㅡ\", \"ㅣ\"): \"ㅢ\"\n",
        "  }\n",
        "\n",
        "  result = []\n",
        "  i = 0\n",
        "  while i < len(letters):\n",
        "      if i < len(letters) - 1:\n",
        "          pair = (letters[i], letters[i+1])\n",
        "          if pair in double_vowel_map:\n",
        "              result.append(double_vowel_map[pair])\n",
        "              i += 2\n",
        "          else:\n",
        "              result.append(letters[i])\n",
        "              i += 1\n",
        "      else:\n",
        "          result.append(letters[i])\n",
        "          i+=1\n",
        "  return result"
      ]
    },
    {
      "cell_type": "code",
      "execution_count": null,
      "metadata": {
        "colab": {
          "base_uri": "https://localhost:8080/"
        },
        "id": "aVbj3Kpv4vEO",
        "outputId": "ccc8d50b-c029-4d22-d02b-014ba6f0608e"
      },
      "outputs": [
        {
          "data": {
            "text/plain": [
              "(['ㅇ'], ['ㅑ', 'ㅠ', 'ㅠ', 'ㅠ', 'ㅠ', 'ㅠ'], ['ㅋ', 'ㅋ', 'ㅋ', 'ㅋ', 'ㅋ'])"
            ]
          },
          "execution_count": 84,
          "metadata": {},
          "output_type": "execute_result"
        }
      ],
      "source": [
        "# 음절 내 초성, 중성, 종성을 분리\n",
        "def separerate_cho_joong_jong(kor_input):\n",
        "  \"\"\"\n",
        "    Separates a list of Korean characters into initial consonant(chosung), middle vowel(joongsung), and final consonant(jongsung).\n",
        "\n",
        "    Args:\n",
        "        l (list): A list of Korean characters representing a syllable.\n",
        "\n",
        "    Returns:\n",
        "        tuple: A tuple containing three lists: chosung, joongsung, and jongsung.\n",
        "          Returns empty lists if there are no characters of the given type.\n",
        "\n",
        "    Example:\n",
        "        >>> sepererate_cho_joong_jong(['ㅂ', 'ㅏ', 'ㄹ', 'ㄱ'])\n",
        "        (['ㅂ'], ['ㅏ'], ['ㄺ'])\n",
        "  \"\"\"\n",
        "  chosung = []\n",
        "  joongsung = []\n",
        "  jongsung = []\n",
        "  vowel_index = -1\n",
        "  for i, char in enumerate(kor_input):\n",
        "    if char in joongsung_list:\n",
        "      vowel_index = i\n",
        "      break\n",
        "  if vowel_index < 0:\n",
        "    chosung = double_cons(kor_input)\n",
        "    return chosung, joongsung, jongsung\n",
        "\n",
        "  chosung = kor_input[:vowel_index]\n",
        "  joongsung = kor_input[vowel_index:]\n",
        "\n",
        "  cons_index = -1\n",
        "  for i, char in enumerate(joongsung):\n",
        "      if char in jongsung_list:\n",
        "          cons_index = i\n",
        "          break\n",
        "\n",
        "  if cons_index > 0:\n",
        "      jongsung = joongsung[cons_index:]\n",
        "      joongsung = joongsung[:cons_index]\n",
        "\n",
        "  if len(joongsung) > 1:\n",
        "    joongsung = double_vowel(joongsung)\n",
        "\n",
        "  if len(jongsung) > 1:\n",
        "    jongsung = double_cons(jongsung)\n",
        "  if len(jongsung) == 0:\n",
        "    jongsung.append(\"\")\n",
        "  return chosung, joongsung, jongsung\n",
        "\n",
        "sepererate_cho_joong_jong(['ㅇ', 'ㅑ', 'ㅠ', 'ㅠ', 'ㅠ', 'ㅠ', 'ㅠ', 'ㅋ', 'ㅋ', 'ㅋ', 'ㅋ', 'ㅋ'])"
      ]
    },
    {
      "cell_type": "code",
      "execution_count": 87,
      "metadata": {
        "id": "OHIxQ7NW4vEO"
      },
      "outputs": [],
      "source": [
        "# 한타 변환: 0xAC00 + 종성번호 + (초성번호 * 21 * 28) + (중성번호 * 28)\n",
        "\n",
        "def combine_syllable(chosung, joongsung, jongsung):\n",
        "  \"\"\"\n",
        "  Combines the separated initial consonant(chosung), middle vowel(joongsung), and final consonant(jongsung)\n",
        "  into a single Korean character.\n",
        "\n",
        "  Args:\n",
        "      chosung (list): A list of Korean characters representing the initial consonant.\n",
        "      joongsung (list): A list of Korean characters representing the middle vowel.\n",
        "      jongsung (list): A list of Korean characters representing the final consonant.\n",
        "\n",
        "  Returns:\n",
        "      str: A string containing the combined Korean character.\n",
        "      Returns an empty string if the combination is not valid.\n",
        "      Returns a string of combined consonants and vowels if there are any remaining double consonants and vowels.\n",
        "\n",
        "  Example:\n",
        "      >>> combine_syllable(['ㅂ'], ['ㅏ'], ['ㄺ'])\n",
        "      '밝'\n",
        "  \"\"\"\n",
        "  # 중성이 존재하지 않는다면 초성만 조인\n",
        "  if not joongsung:\n",
        "    return \"\".join(chosung)\n",
        "  # 초성이 존재하지 않을 경우, 중성과 종성 그대로 조인\n",
        "  elif not chosung:\n",
        "    return \"\".join(joongsung) + \"\".join(jongsung)\n",
        "  # 초성이 1개만 있을 경우,\n",
        "  elif len(chosung) == 1:\n",
        "    # 중성이 2개 이상이면, 맨 처음 중성과 초성 결합, 그 이후의 중성과 종성 그대로 조인\n",
        "    if len(joongsung) > 1:\n",
        "      word = 0xAC00 + (chosung_list.index(chosung[0]) * 21 * 28) + (joongsung_list.index(joongsung[0]) * 28)\n",
        "      return chr(word) +  \"\".join(joongsung[1:]) + \"\".join(jongsung)\n",
        "    # 초성 1개, 중성 1개인 경우\n",
        "    else:\n",
        "      # 종성만 2개 이상인 경우, 맨 처음 종성과 결합, 그 이후의 종성 그대로 조인\n",
        "      if len(jongsung) > 1:\n",
        "        word = 0xAC00  + (chosung_list.index(chosung[0]) * 21 * 28) + (joongsung_list.index(joongsung[0]) * 28)\n",
        "        return chr(word) + \"\".join(jongsung)\n",
        "      # 초성, 중성, 종성 모두 1개씩인 경우\n",
        "      else:\n",
        "        word = 0xAC00  + (chosung_list.index(chosung[0]) * 21 * 28) + (joongsung_list.index(joongsung[0]) * 28) + jongsung_list.index(jongsung[0])\n",
        "        return chr(word)\n",
        "  # 초성이 2개 이상인 경우\n",
        "  else:\n",
        "    # 중성도 2개 이상이면, 맨 마지막 초성+맨처음 중성 결합 후 나머지초성+결합된글자+나머지 중성+종성 조인\n",
        "    if len(joongsung) > 1:\n",
        "      word = 0xAC00 + (chosung_list.index(chosung[-1]) * 21 * 28) + (joongsung_list.index(joongsung[0]) * 28)\n",
        "      return \"\".join(chosung[:-1]) + chr(word) +  \"\".join(joongsung[1:]) + \"\".join(jongsung)\n",
        "    # 초성 2개 이상, 중성 1개일 때,\n",
        "    else:\n",
        "      # 종성 2개 이상이면, 나머지 초성+맨마지막초성과 중성과 맨처음 종성 결합 글자+ 나머지 종성 조인\n",
        "      if len(jongsung) > 1:\n",
        "        word = 0xAC00  + (chosung_list.index(chosung[-1]) * 21 * 28) + (joongsung_list.index(joongsung[0]) * 28)+ jongsung_list.index(jongsung[0])\n",
        "        return  \"\".join(chosung[:-1]) + chr(word) + \"\".join(jongsung)\n",
        "      # 종성 1개일 때, 나머지 초성+맨마지막초성과 중성과 맨처음 종성 결합 글자\n",
        "      else:\n",
        "        word = 0xAC00  + (chosung_list.index(chosung[-1]) * 21 * 28) + (joongsung_list.index(joongsung[0]) * 28) + jongsung_list.index(jongsung[0])\n",
        "        return \"\".join(chosung[:-1]) + chr(word)"
      ]
    },
    {
      "cell_type": "code",
      "execution_count": null,
      "metadata": {
        "colab": {
          "base_uri": "https://localhost:8080/"
        },
        "id": "EEU_j871Bqdl",
        "outputId": "4c04f563-467c-401e-f2af-a5fdd490b606"
      },
      "outputs": [
        {
          "name": "stdout",
          "output_type": "stream",
          "text": [
            "아\n"
          ]
        }
      ],
      "source": [
        "input = \"dk\"\n",
        "# 최종 영한타 변환기 \n",
        "def eng_2_kor_transformer (input):\n",
        "  result = []\n",
        "  # 입력값 space 기준으로 잘라서 각각 한타 변환\n",
        "  input_split = input.split()\n",
        "  for input in input_split:\n",
        "    output = \"\"\n",
        "    replaced_kor_alphabets = eng_to_kor(input)\n",
        "    separated_syllables = syllable_seperator(replaced_kor_alphabets)\n",
        "    for syllable in separated_syllables:\n",
        "      chosung, joongsung, jongsung = separerate_cho_joong_jong(syllable)\n",
        "      letter = combine_syllable(chosung, joongsung, jongsung)\n",
        "      output += letter\n",
        "    result.append(output)\n",
        "  # 다시 space 추가\n",
        "  result = \" \".join(result)\n",
        "  return  result"
      ]
    },
    {
      "cell_type": "code",
      "execution_count": null,
      "metadata": {
        "id": "nvJnHj9HqZCy"
      },
      "outputs": [],
      "source": []
    }
  ],
  "metadata": {
    "colab": {
      "provenance": []
    },
    "kernelspec": {
      "display_name": "venv",
      "language": "python",
      "name": "python3"
    },
    "language_info": {
      "codemirror_mode": {
        "name": "ipython",
        "version": 3
      },
      "file_extension": ".py",
      "mimetype": "text/x-python",
      "name": "python",
      "nbconvert_exporter": "python",
      "pygments_lexer": "ipython3",
      "version": "3.12.8"
    }
  },
  "nbformat": 4,
  "nbformat_minor": 0
}

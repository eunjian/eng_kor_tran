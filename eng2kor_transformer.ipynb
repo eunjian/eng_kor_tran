{
 "cells": [
  {
   "cell_type": "code",
   "execution_count": 9,
   "metadata": {},
   "outputs": [],
   "source": [
    "ko_dict = {'q':'ㅂ', 'Q':'ㅃ', 'w':'ㅈ', 'W':'ㅉ', \n",
    "           'e':'ㄷ', 'E':'ㄸ', 'r':'ㄱ', 'R':'ㄲ', 't':'ㅅ', \n",
    "           'T':'ㅆ', 'y':'ㅛ', 'u':'ㅕ', 'i':'ㅑ', 'o':'ㅐ', \n",
    "           'p':'ㅔ', 'a':'ㅁ', 's':'ㄴ', 'd':'ㅇ', 'f':'ㄹ', \n",
    "           'g':'ㅎ', 'h':'ㅗ', 'j':'ㅓ', 'k':'ㅏ', 'l':'ㅣ', \n",
    "           'z':'ㅋ', 'x':'ㅌ', 'c':'ㅊ', 'v':'ㅍ', 'b':'ㅠ', \n",
    "           'n':'ㅜ', 'm':'ㅡ', 'O':'ㅒ', 'P':'ㅖ', 'Y':'ㅛ', \n",
    "           'U':'ㅕ', 'I':'ㅑ', 'H':'ㅗ', 'J':'ㅓ', 'K':'ㅏ', \n",
    "           'L':'ㅣ', 'B':'ㅠ', 'N':'ㅜ', 'M':'ㅡ', 'A':'ㅁ',\n",
    "           'S':'ㄴ', 'D':'ㅇ', 'F':'ㄹ', 'G':'ㅎ', 'Z':'ㅋ',\n",
    "           'X':'ㅌ', 'C':'ㅊ', 'V':'ㅍ'}\n",
    "\n",
    "chosung_list = sorted(['ㄱ','ㄴ','ㄷ','ㄹ','ㅁ','ㅂ','ㅅ','ㅇ','ㅈ','ㅊ','ㅋ','ㅌ','ㅍ','ㅎ','ㄲ','ㄸ','ㅃ','ㅆ','ㅉ'])\n",
    "joongsung_list = sorted(['ㅏ','ㅑ','ㅓ','ㅕ','ㅗ','ㅛ','ㅜ','ㅠ','ㅡ','ㅣ','ㅐ','ㅒ','ㅔ','ㅖ','ㅘ','ㅚ','ㅙ','ㅝ','ㅟ','ㅞ','ㅢ'])\n",
    "jongsung_list = sorted(['ㄱ','ㄴ','ㄷ','ㄹ','ㅁ','ㅂ','ㅅ','ㅇ','ㅈ','ㅊ','ㅋ','ㅌ','ㅍ','ㅎ','ㄲ','ㅆ','ㄼ','ㄽ','ㄺ','ㅀ','ㄾ','ㄿ','ㄳ','ㅄ','ㄶ','ㄵ'])"
   ]
  },
  {
   "cell_type": "code",
   "execution_count": 11,
   "metadata": {},
   "outputs": [
    {
     "name": "stdout",
     "output_type": "stream",
     "text": [
      "['ㅇ', 'ㅗ', 'ㅐ', 'ㅂ', 'ㅅ']\n"
     ]
    }
   ],
   "source": [
    "def eng_to_kor(eng_input):\n",
    "    kor_output = []\n",
    "    for c in eng_input:\n",
    "        if c in ko_dict:\n",
    "            kor_output.append(ko_dict[c])\n",
    "        else:\n",
    "            kor_output.append(c)\n",
    "    return kor_output\n",
    "\n",
    "print(eng_to_kor(\"dhoqt\"))"
   ]
  },
  {
   "cell_type": "code",
   "execution_count": 10,
   "metadata": {},
   "outputs": [
    {
     "name": "stdout",
     "output_type": "stream",
     "text": [
      "[['ㅇ'], ['ㅇ', 'ㅏ', 'ㄴ'], ['ㄴ', 'ㅕ', 'ㅇ']]\n",
      "[['ㅂ', 'ㅏ', 'ㄹ', 'ㄱ'], ['ㅇ', 'ㅡ', 'ㄴ']]\n",
      "[['ㅇ', 'ㅏ', 'ㅏ', 'ㅏ', 'ㅏ', 'ㅏ', 'ㅋ', 'ㅋ', 'ㅋ', 'ㅋ']]\n"
     ]
    }
   ],
   "source": [
    "def syllable_seperator(kor_input):\n",
    "    words = []\n",
    "    cursor = len(kor_input)-1\n",
    "    for i in range(len(kor_input)-1,0,-1):\n",
    "        if kor_input[i-1] in chosung_list and kor_input[i] in joongsung_list:\n",
    "            words.append(kor_input[i-1:cursor+1])\n",
    "            cursor = i-2\n",
    "            rest = kor_input[:i-1]\n",
    "           \n",
    "    if len(rest) != 0:\n",
    "        words.append(rest)\n",
    "    return words[::-1]\n",
    "\n",
    "print(syllable_seperator(['ㅇ','ㅇ', 'ㅏ', 'ㄴ', 'ㄴ', 'ㅕ', 'ㅇ']))\n",
    "print(syllable_seperator(['ㅂ', 'ㅏ', 'ㄹ', 'ㄱ', 'ㅇ', 'ㅡ', 'ㄴ']))\n",
    "print(syllable_seperator(['ㅇ', 'ㅏ', 'ㅏ', 'ㅏ', 'ㅏ', 'ㅏ', 'ㅋ', 'ㅋ', 'ㅋ', 'ㅋ']))"
   ]
  },
  {
   "cell_type": "code",
   "execution_count": 13,
   "metadata": {},
   "outputs": [
    {
     "name": "stdout",
     "output_type": "stream",
     "text": [
      "['ㅇ']\n",
      "['ㅙ']\n",
      "['ㅄ']\n"
     ]
    }
   ],
   "source": [
    "l = ['ㅇ', 'ㅗ', 'ㅐ', 'ㅂ', 'ㅅ']\n",
    "\n",
    "for i, char in enumerate(l):\n",
    "    if char in joongsung_list:\n",
    "        vowel_index = i\n",
    "        break\n",
    "if vowel_index:\n",
    "    if vowel_index > 0:\n",
    "        chosung = l[:vowel_index]\n",
    "    joongsung = l[vowel_index:]\n",
    "    cons_index = 0\n",
    "    for i, char in enumerate(joongsung):\n",
    "        if char in jongsung_list:\n",
    "            cons_index = i\n",
    "            break\n",
    "    if cons_index > 0:\n",
    "        jongsung = joongsung[cons_index:]\n",
    "        joongsung = joongsung[:cons_index]\n",
    "    \n",
    "    if len(chosung) > 1 and (chosung[-1] in chosung_list):\n",
    "        final_chosung = chosung[-1]\n",
    "\n",
    "    if len(joongsung) > 1:\n",
    "        for i, char in  enumerate(joongsung[:-1]):\n",
    "            if joongsung[i] == \"ㅗ\" and joongsung[i+1] == \"ㅐ\":\n",
    "                joongsung[i] = \"ㅙ\"\n",
    "                joongsung.pop(i+1)\n",
    "            elif joongsung[i] == \"ㅗ\" and joongsung[i+1] == \"ㅏ\":\n",
    "                joongsung[i] = \"ㅘ\"\n",
    "                joongsung.pop(i+1)\n",
    "            elif joongsung[i] == \"ㅗ\" and joongsung[i+1] == \"ㅣ\":\n",
    "                joongsung[i] = \"ㅚ\"\n",
    "                joongsung.pop(i+1)\n",
    "            elif joongsung[i] == \"ㅜ\" and joongsung[i+1] == \"ㅓ\":\n",
    "                joongsung[i] = \"ㅝ\"\n",
    "                joongsung.pop(i+1)\n",
    "            elif joongsung[i] == \"ㅜ\" and joongsung[i+1] == \"ㅔ\":\n",
    "                joongsung[i] = \"ㅞ\"\n",
    "                joongsung.pop(i+1)\n",
    "            elif joongsung[i] == \"ㅜ\" and joongsung[i+1] == \"ㅣ\":\n",
    "                joongsung[i] = \"ㅟ\"\n",
    "                joongsung.pop(i+1)\n",
    "            elif joongsung[i] == \"ㅡ\" and joongsung[i+1] == \"ㅣ\":\n",
    "                joongsung[i] = \"ㅢ\"\n",
    "                joongsung.pop(i+1)\n",
    "    \n",
    "    if len(jongsung) > 1:\n",
    "        for i, char in enumerate(jongsung[:-1]):\n",
    "            if jongsung[i] == 'ㅂ' and jongsung[i+1] == \"ㅅ\":\n",
    "                jongsung[i] = \"ㅄ\"\n",
    "                jongsung.pop(i+1)\n",
    "            if jongsung[i] == 'ㄱ' and jongsung[i+1] == \"ㅅ\":\n",
    "                jongsung[i] = \"ㄳ\"\n",
    "                jongsung.pop(i+1)\n",
    "            if jongsung[i] == 'ㄴ' and jongsung[i+1] == \"ㅈ\":\n",
    "                jongsung[i] = \"ㄵ\"\n",
    "                jongsung.pop(i+1)\n",
    "            if jongsung[i] == 'ㄴ' and jongsung[i+1] == \"ㅎ\":\n",
    "                jongsung[i] = \"ㄶ\"\n",
    "                jongsung.pop(i+1)\n",
    "            if jongsung[i] == 'ㄹ' and jongsung[i+1] == \"ㄱ\":\n",
    "                jongsung[i] = \"ㄺ\"\n",
    "                jongsung.pop(i+1)\n",
    "            if jongsung[i] == 'ㄹ' and jongsung[i+1] == \"ㅁ\":\n",
    "                jongsung[i] = \"ㄻ\"\n",
    "                jongsung.pop(i+1)\n",
    "            if jongsung[i] == 'ㄹ' and jongsung[i+1] == \"ㅂ\":\n",
    "                jongsung[i] = \"ㄼ\"\n",
    "                jongsung.pop(i+1)\n",
    "            if jongsung[i] == 'ㄹ' and jongsung[i+1] == \"ㅅ\":\n",
    "                jongsung[i] = \"ㄽ\"\n",
    "                jongsung.pop(i+1)\n",
    "            if jongsung[i] == 'ㄹ' and jongsung[i+1] == \"ㅌ\":\n",
    "                jongsung[i] = \"ㄾ\"\n",
    "                jongsung.pop(i+1)\n",
    "            if jongsung[i] == 'ㄹ' and jongsung[i+1] == \"ㅍ\":\n",
    "                jongsung[i] = \"ㄿ\"\n",
    "                jongsung.pop(i+1)\n",
    "            if jongsung[i] == 'ㄹ' and jongsung[i+1] == \"ㅎ\":\n",
    "                jongsung[i] = \"ㅀ\"\n",
    "                jongsung.pop(i+1)\n",
    "\n",
    "\n",
    "print(chosung)\n",
    "print(joongsung)\n",
    "print(jongsung)"
   ]
  },
  {
   "cell_type": "code",
   "execution_count": 3,
   "metadata": {},
   "outputs": [
    {
     "data": {
      "text/plain": [
       "'ㅂㅏ'"
      ]
     },
     "execution_count": 3,
     "metadata": {},
     "output_type": "execute_result"
    }
   ],
   "source": [
    "''.join([\"ㅂ\",\"ㅏ\"])"
   ]
  },
  {
   "cell_type": "code",
   "execution_count": null,
   "metadata": {},
   "outputs": [],
   "source": []
  }
 ],
 "metadata": {
  "kernelspec": {
   "display_name": "venv",
   "language": "python",
   "name": "python3"
  },
  "language_info": {
   "codemirror_mode": {
    "name": "ipython",
    "version": 3
   },
   "file_extension": ".py",
   "mimetype": "text/x-python",
   "name": "python",
   "nbconvert_exporter": "python",
   "pygments_lexer": "ipython3",
   "version": "3.12.8"
  }
 },
 "nbformat": 4,
 "nbformat_minor": 2
}
